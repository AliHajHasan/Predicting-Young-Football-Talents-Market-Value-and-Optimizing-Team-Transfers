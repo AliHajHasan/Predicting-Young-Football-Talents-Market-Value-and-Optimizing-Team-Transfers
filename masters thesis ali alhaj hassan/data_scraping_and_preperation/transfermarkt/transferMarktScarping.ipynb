{
 "cells": [
  {
   "cell_type": "markdown",
   "metadata": {},
   "source": [
    "# Transfermarkt Web Scraping - Football Player Market Value\n",
    "## This script scrapes player market value data from Transfermarkt for different football leagues using requests.\n"
   ]
  },
  {
   "cell_type": "markdown",
   "metadata": {},
   "source": [
    "### Import Required Libraries"
   ]
  },
  {
   "cell_type": "code",
   "execution_count": 1,
   "metadata": {},
   "outputs": [],
   "source": [
    "import os\n",
    "import requests\n",
    "from lxml import html\n",
    "import pandas as pd\n",
    "import time\n"
   ]
  },
  {
   "cell_type": "markdown",
   "metadata": {},
   "source": [
    "### Set the year to scrap and the leagues with the links "
   ]
  },
  {
   "cell_type": "code",
   "execution_count": null,
   "metadata": {},
   "outputs": [],
   "source": [
    "SEASON_YEAR = 2020\n",
    "\n",
    "league_links = {\n",
    "    \"Laliga\": \"https://www.transfermarkt.co.uk/laliga/startseite/wettbewerb/ES1/plus/?saison_id={season_year}\",\n",
    "    \"Laliga2\": \"https://www.transfermarkt.co.uk/laliga2/startseite/wettbewerb/ES2/plus/?saison_id={season_year}\",\n",
    "    \"BelgianProLeague\": \"https://www.transfermarkt.co.uk/jupiler-pro-league/startseite/wettbewerb/BE1/plus/?saison_id={season_year}\",\n",
    "    \"BrazilSerieA\": \"https://www.transfermarkt.co.uk/campeonato-brasileiro-serie-a/startseite/wettbewerb/BRA1/plus/?saison_id={season_year}\",\n",
    "    \"Bundesliga\": \"https://www.transfermarkt.co.uk/bundesliga/startseite/wettbewerb/L1/plus/?saison_id={season_year}\",\n",
    "    \"Bundesliga2\": \"https://www.transfermarkt.co.uk/2-bundesliga/startseite/wettbewerb/L2/plus/?saison_id={season_year}\",\n",
    "    \"LigaProfesionalArgentina\": \"https://www.transfermarkt.co.uk/torneo-final/startseite/wettbewerb/ARGC/plus/?saison_id={season_year}\",\n",
    "    \"Ligue1\": \"https://www.transfermarkt.co.uk/ligue-1/startseite/wettbewerb/FR1/plus/?saison_id={season_year}\",\n",
    "    \"Ligue2\": \"https://www.transfermarkt.co.uk/ligue-2/startseite/wettbewerb/FR2/plus/?saison_id={season_year}\",\n",
    "    \"SerieA\": \"https://www.transfermarkt.co.uk/serie-a/startseite/wettbewerb/IT1/plus/?saison_id={season_year}\",\n",
    "    \"SerieB\": \"https://www.transfermarkt.co.uk/serie-b/startseite/wettbewerb/IT2/plus/?saison_id={season_year}\",\n",
    "    \"Netherlands\": \"https://www.transfermarkt.co.uk/eredivisie/startseite/wettbewerb/NL1/plus/?saison_id={season_year}\",\n",
    "    \"PrimeiraLigaPortugal\": \"https://www.transfermarkt.co.uk/liga-nos/startseite/wettbewerb/PO1/plus/?saison_id={season_year}\",\n",
    "    \"PremierLeague\" :\"https://www.transfermarkt.co.uk/premier-league/startseite/wettbewerb/GB1/plus/?saison_id={season_year}\",\n",
    "    \"championship\" : \"https://www.transfermarkt.co.uk/championship/startseite/wettbewerb/GB2/plus/?saison_id={season_year}\"\n",
    "}"
   ]
  },
  {
   "cell_type": "markdown",
   "metadata": {},
   "source": [
    "### Helper Function - Convert Market Values\n",
    "### This function converts market values from strings (e.g., `\"€10m\"`, `\"€500k\"`) to numeric values.\n"
   ]
  },
  {
   "cell_type": "code",
   "execution_count": null,
   "metadata": {},
   "outputs": [],
   "source": [
    "def convert_value(value):\n",
    "    if not value or value.strip() == \"-\":\n",
    "        return 0\n",
    "    value = value.replace(\"€\", \"\").replace(\",\", \".\").strip()\n",
    "    try:\n",
    "        if \"m\" in value:\n",
    "            return float(value.replace(\"m\", \"\")) * 1000000\n",
    "        elif \"k\" in value:\n",
    "            return float(value.replace(\"k\", \"\")) * 1000\n",
    "        else:\n",
    "            return float(value)\n",
    "    except ValueError:\n",
    "        return 0\n"
   ]
  },
  {
   "cell_type": "markdown",
   "metadata": {},
   "source": [
    "### Scrape Club Links from League Page\n",
    "### This function extracts club names and their URLs for a given league.\n"
   ]
  },
  {
   "cell_type": "code",
   "execution_count": null,
   "metadata": {},
   "outputs": [],
   "source": [
    "def get_club_links(league_url, headers):\n",
    "    response = requests.get(league_url, headers=headers)\n",
    "    if response.status_code != 200:\n",
    "        print(f\"Failed to retrieve league data: {league_url}\")\n",
    "        return []\n",
    "    tree = html.fromstring(response.content)\n",
    "    clubs = tree.xpath(\"//div[@id='yw1']//td[contains(@class, 'hauptlink')]/a[contains(@href, '/verein/')]\")\n",
    "    club_links = [(club.text.strip(), f\"https://www.transfermarkt.co.uk{club.get('href')}/plus/?saison_id={SEASON_YEAR}\") for club in clubs if club is not None and club.text]\n",
    "    return club_links\n"
   ]
  },
  {
   "cell_type": "markdown",
   "metadata": {},
   "source": [
    "\n",
    "### Scrape Players from Each Club\n",
    "### This function extracts **player names** and their **market value**.\n"
   ]
  },
  {
   "cell_type": "code",
   "execution_count": null,
   "metadata": {},
   "outputs": [],
   "source": [
    "def get_players_from_club(club_name, club_url, headers):\n",
    "    players_data = []\n",
    "    team_response = requests.get(club_url, headers=headers)\n",
    "    if team_response.status_code != 200:\n",
    "        print(f\"Failed to fetch data for {club_name}\")\n",
    "        return []\n",
    "    team_tree = html.fromstring(team_response.content)\n",
    "    squad_table = team_tree.xpath(\"//div[@id='yw1']//table[contains(@class, 'items')]/tbody/tr\")\n",
    "    for row in squad_table:\n",
    "        player = row.xpath(\".//td[contains(@class, 'hauptlink')]/a/text()\")\n",
    "        value = row.xpath(\".//td[contains(@class, 'rechts hauptlink')]/a/text()\")\n",
    "        player_name = player[0].strip() if player else \"Unknown Player\"\n",
    "        market_value = convert_value(value[0]) if value else 0\n",
    "        players_data.append({\"Club\": club_name, \"Player\": player_name, \"Market Value (€)\": market_value})\n",
    "    return players_data"
   ]
  },
  {
   "cell_type": "markdown",
   "metadata": {},
   "source": [
    "###  Scrape Data for All Leagues & Save to CSV\n",
    "###    This function:\n",
    "###   - Iterates over each league.\n",
    "###   - Scrapes club links.\n",
    "###   - Scrapes player data for each club.\n",
    "###   - Saves results as CSV files.\n"
   ]
  },
  {
   "cell_type": "code",
   "execution_count": null,
   "metadata": {},
   "outputs": [],
   "source": [
    "def scrape_and_save(league_links, season_year):\n",
    "    output_folder = f\"./transfermarkt_data_{season_year}\"\n",
    "    os.makedirs(output_folder, exist_ok=True)\n",
    "    headers = {\"User-Agent\": \"Mozilla/5.0\"}\n",
    "    all_data = []\n",
    "    \n",
    "    for league_name, league_url in league_links.items():\n",
    "        print(f\"Scraping league: {league_name}\")\n",
    "        league_url = league_url.format(season_year=season_year)  # Update URL with season year\n",
    "        club_links = get_club_links(league_url, headers)\n",
    "        league_data = []\n",
    "        \n",
    "        for club_name, club_url in club_links:\n",
    "            print(f\"Fetching data for {club_name}\")\n",
    "            league_data.extend(get_players_from_club(club_name, club_url, headers))\n",
    "            time.sleep(2)\n",
    "        \n",
    "        if league_data:\n",
    "            df = pd.DataFrame(league_data)\n",
    "            df.to_csv(os.path.join(output_folder, f\"{league_name}_{season_year}.csv\"), index=False)\n",
    "            all_data.append(df)\n",
    "    \n",
    "    if all_data:\n",
    "        final_df = pd.concat(all_data, ignore_index=True).fillna(0)\n",
    "        final_df.to_csv(os.path.join(output_folder, f\"all_leagues_combined_{season_year}.csv\"), index=False)\n",
    "        print(\"Final merged dataset saved.\")\n",
    "    else:\n",
    "        print(\"No data collected.\")\n"
   ]
  },
  {
   "cell_type": "markdown",
   "metadata": {},
   "source": [
    "### call the function"
   ]
  },
  {
   "cell_type": "code",
   "execution_count": null,
   "metadata": {},
   "outputs": [],
   "source": [
    "scrape_and_save(league_links, SEASON_YEAR)\n"
   ]
  }
 ],
 "metadata": {
  "kernelspec": {
   "display_name": "Python 3",
   "language": "python",
   "name": "python3"
  },
  "language_info": {
   "codemirror_mode": {
    "name": "ipython",
    "version": 3
   },
   "file_extension": ".py",
   "mimetype": "text/x-python",
   "name": "python",
   "nbconvert_exporter": "python",
   "pygments_lexer": "ipython3",
   "version": "3.12.7"
  }
 },
 "nbformat": 4,
 "nbformat_minor": 2
}
