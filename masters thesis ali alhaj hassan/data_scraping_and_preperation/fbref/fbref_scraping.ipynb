{
 "cells": [
  {
   "cell_type": "markdown",
   "metadata": {},
   "source": [
    "# FBREF web scraping using Selenium"
   ]
  },
  {
   "cell_type": "markdown",
   "metadata": {},
   "source": [
    "### Import Required Libraries"
   ]
  },
  {
   "cell_type": "code",
   "execution_count": 4,
   "metadata": {},
   "outputs": [],
   "source": [
    "import os\n",
    "import time\n",
    "import pandas as pd\n",
    "from selenium import webdriver\n",
    "from selenium.webdriver.edge.service import Service as EdgeService\n",
    "from selenium.webdriver.common.by import By\n",
    "from selenium.webdriver.support.ui import WebDriverWait\n",
    "from selenium.webdriver.support import expected_conditions as EC"
   ]
  },
  {
   "cell_type": "markdown",
   "metadata": {},
   "source": [
    "\n",
    "### Define a dictionary containing URLs for different leagues, incorporating the selected year.\n"
   ]
  },
  {
   "cell_type": "code",
   "execution_count": 5,
   "metadata": {},
   "outputs": [],
   "source": [
    "year =\"2020-2021\"\n",
    "league_links = {\n",
    "    \"Laliga\": f\"https://fbref.com/en/comps/12/{year}/stats/{year}-LaLiga-Stats\",\n",
    "    \"Laliga2\": f\"https://fbref.com/en/comps/17/{year}/stats/{year}-LaLiga2-Stats\",\n",
    "    \"BelgianProLeague\": f\"https://fbref.com/en/comps/37/{year}/stats/{year}-BelgianProLeague-Stats\",\n",
    "    \"BrazilSerieA\": f\"https://fbref.com/en/comps/24/{year}/stats/{year}-BrazilSerieA-Stats\",\n",
    "    \"Bundesliga\": f\"https://fbref.com/en/comps/20/{year}/stats/{year}-Bundesliga-Stats\",\n",
    "    \"Bundesliga2\": f\"https://fbref.com/en/comps/33/{year}/stats/{year}-Bundesliga2-Stats\",\n",
    "    \"LigaProfesionalArgentina\": f\"https://fbref.com/en/comps/21/2021/stats/2021-Liga-Profesional-Argentina-Stats\",\n",
    "    \"Ligue1\": f\"https://fbref.com/en/comps/13/{year}/stats/{year}-Ligue1-Stats\",\n",
    "    \"Ligue2\": f\"https://fbref.com/en/comps/60/{year}/stats/{year}-Ligue2-Stats\",\n",
    "    \"SerieA\": f\"https://fbref.com/en/comps/11/{year}/stats/{year}-SerieA-Stats\",\n",
    "    \"SerieB\": f\"https://fbref.com/en/comps/18/{year}/stats/{year}-SerieB-Stats\",\n",
    "    \"Netherlands\": f\"https://fbref.com/en/comps/23/{year}/stats/{year}-Eredivisie-Stats\",\n",
    "    \"PrimeiraLigaPortugal\": f\"https://fbref.com/en/comps/32/{year}/stats/{year}-PrimeiraLigaPortugal-Stats\",\n",
    "    \"PremierLeague\": f\"https://fbref.com/en/comps/9/{year}/stats/{year}-PremierLeague-Stats\",\n",
    "    \"Championship\": f\"https://fbref.com/en/comps/10/{year}/stats/{year}-Championship-Stats\"\n",
    "}"
   ]
  },
  {
   "cell_type": "markdown",
   "metadata": {},
   "source": [
    "### Initialize Selenium WebDriver"
   ]
  },
  {
   "cell_type": "code",
   "execution_count": null,
   "metadata": {},
   "outputs": [],
   "source": [
    "PATH_TO_DRIVER = \"C:/WebDriver/msedgedriver.exe\" \n",
    "service = EdgeService(PATH_TO_DRIVER)\n",
    "options = webdriver.EdgeOptions()\n",
    "options.add_argument(\"--ignore-certificate-errors\")  \n",
    "options.add_argument(\"--disable-gpu\")\n",
    "options.add_argument(\"--start-maximized\")  \n",
    "\n",
    "# Initialize WebDriver\n",
    "driver = webdriver.Edge(service=service, options=options)\n",
    "driver.maximize_window() \n",
    "\n",
    "# Create directory for the selected year\n",
    "year_folder = f\"./{year}\"\n",
    "os.makedirs(year_folder, exist_ok=True)\n"
   ]
  },
  {
   "cell_type": "markdown",
   "metadata": {},
   "source": [
    "### Loop through each league, extract data, and save it as a CSV file"
   ]
  },
  {
   "cell_type": "code",
   "execution_count": null,
   "metadata": {},
   "outputs": [],
   "source": [
    "for league_name, url in league_links.items():\n",
    "    print(f\"Processing {league_name} for {year}...\")\n",
    "    driver.get(url)\n",
    "    time.sleep(5)  \n",
    "    \n",
    "    # Wait until table is loaded\n",
    "    wait = WebDriverWait(driver, 10)\n",
    "    try:\n",
    "        table = wait.until(EC.presence_of_element_located((By.ID, \"stats_standard\")))\n",
    "    except:\n",
    "        print(f\"Failed to load data for {league_name}. Skipping...\")\n",
    "        continue\n",
    "    \n",
    "    # Extract column headers using 'aria-label'\n",
    "    header_row = table.find_elements(By.XPATH, \".//thead/tr[not(@class='over_header')]/th\")\n",
    "    column_headers = [th.get_attribute(\"aria-label\").strip() if th.get_attribute(\"aria-label\") else th.text.strip() for th in header_row]\n",
    "    column_headers = column_headers[1:-1]  # Remove last empty column if present\n",
    "    \n",
    "    # Extract table rows & filter players under 23 during scraping\n",
    "    rows = table.find_elements(By.TAG_NAME, \"tr\")\n",
    "    data = []\n",
    "    \n",
    "    for row in rows[1:]:  # Skip header row\n",
    "        cols = row.find_elements(By.TAG_NAME, \"td\")\n",
    "        row_data = [col.text.strip() for col in cols]\n",
    "        row_data = row_data[0:-1]  # Remove last empty column\n",
    "        \n",
    "        if len(row_data) == len(column_headers):  \n",
    "            try:\n",
    "                age_index = column_headers.index(\"Age\")  # Find Age column index\n",
    "                if int(row_data[age_index]) <= 23:  # Filter during scraping\n",
    "                    data.append(row_data)\n",
    "            except (ValueError, IndexError):\n",
    "                print(f\"Skipping row due to missing or non-numeric Age: {row_data}\")\n",
    "        else:\n",
    "            print(f\"Skipping row with {len(row_data)} columns (Expected {len(column_headers)})\")\n",
    "    \n",
    "    # Ensure data is not empty\n",
    "    if not data:\n",
    "        print(f\"No valid data extracted for {league_name}. Skipping...\")\n",
    "        continue\n",
    "    \n",
    "    # Save data to CSV in the main year folder\n",
    "    df_filtered = pd.DataFrame(data, columns=column_headers)\n",
    "    file_path = os.path.join(year_folder, f\"{league_name}.csv\")\n",
    "    df_filtered.to_csv(file_path, index=False)\n",
    "    \n",
    "    print(f\"Data saved for {league_name}: {file_path}\")\n"
   ]
  },
  {
   "cell_type": "markdown",
   "metadata": {},
   "source": [
    "### quit driver and print the final message"
   ]
  },
  {
   "cell_type": "code",
   "execution_count": null,
   "metadata": {},
   "outputs": [],
   "source": [
    "driver.quit()\n",
    "print(\"Scraping completed!\")"
   ]
  }
 ],
 "metadata": {
  "kernelspec": {
   "display_name": "Python 3",
   "language": "python",
   "name": "python3"
  },
  "language_info": {
   "codemirror_mode": {
    "name": "ipython",
    "version": 3
   },
   "file_extension": ".py",
   "mimetype": "text/x-python",
   "name": "python",
   "nbconvert_exporter": "python",
   "pygments_lexer": "ipython3",
   "version": "3.12.7"
  }
 },
 "nbformat": 4,
 "nbformat_minor": 2
}
